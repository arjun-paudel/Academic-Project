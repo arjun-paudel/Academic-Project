{
 "cells": [
  {
   "cell_type": "markdown",
   "metadata": {},
   "source": [
    "# Artificial Intelligence and Machine Learning - Coursework 2 - Pratical Component - 1st diet\n",
    "# Module ID : MMI226824\n",
    "## Improving News Classification Using NLP\n",
    "# Student Name: Arjun Paudel\n",
    "# Student Email: APAUDE300@caledonian.ac.uk\n",
    "# Student ID Number : S2271954\n",
    "# Submission Date : 2024/01/09\n",
    "I confirm that the material contained within the submitted coursework is all my own work unless otherwise stated below.\n",
    "\n",
    "---"
   ]
  },
  {
   "attachments": {},
   "cell_type": "markdown",
   "metadata": {},
   "source": [
    "# CW2: Natural Language Processing: Classification of News Articles\n",
    "This coursework extends Lab 8, using the content of news articles to classify them into one of the 4 following categories: `World, Sports, Business, Sci/Tech`.\n",
    "\n",
    "The original data source is http://groups.di.unipi.it/~gulli/AG_corpus_of_news_articles.html. You do not need to download the data from those websites, it has been made available on GCU learn in the compressed file 'news_dataset.zip', you simply need to download and extract it. You'll get files *train.csv* and *test.csv*. Place them in the same folder as this notebook (or change the path in `pd.read_csv()` accordingly).\n",
    "\n",
    "Import Conda environmet `lab8_NLP_news.yml`."
   ]
  },
  {
   "cell_type": "markdown",
   "metadata": {},
   "source": [
    "First necessary libraries were loaded to perform the natural language processing and text classification tasks. "
   ]
  },
  {
   "cell_type": "code",
   "execution_count": 1,
   "metadata": {},
   "outputs": [],
   "source": [
    "import numpy as np\n",
    "import matplotlib.pyplot as plt\n",
    "import pandas as pd\n",
    "import re\n",
    "import seaborn as sns\n",
    "import nltk\n",
    "from nltk.corpus import stopwords\n",
    "from sklearn.metrics import confusion_matrix, classification_report, accuracy_score, classification_report\n",
    "from sklearn.model_selection import train_test_split\n",
    "from tensorflow.keras.layers import (\n",
    "    TextVectorization,\n",
    "    Embedding,\n",
    "    LSTM,\n",
    "    Bidirectional,\n",
    "    Dense,\n",
    "    Embedding,\n",
    "    Conv1D,\n",
    "    GlobalMaxPooling1D,\n",
    ")\n",
    "import tensorflow.keras\n",
    "from tensorflow.keras.models import Sequential\n",
    "from sklearn.feature_selection import SelectKBest, f_classif\n",
    "from sklearn.feature_extraction.text import TfidfVectorizer\n",
    "from sklearn.neighbors import KNeighborsClassifier\n",
    "\n",
    "from nltk.stem import PorterStemmer\n",
    "\n"
   ]
  },
  {
   "attachments": {},
   "cell_type": "markdown",
   "metadata": {},
   "source": [
    "# 1. Data preparation\n"
   ]
  },
  {
   "cell_type": "markdown",
   "metadata": {},
   "source": [
    "Follwing code is uesd to laod the data into two data frame that train data and test data."
   ]
  },
  {
   "cell_type": "code",
   "execution_count": 2,
   "metadata": {},
   "outputs": [
    {
     "name": "stdout",
     "output_type": "stream",
     "text": [
      "   Class Index                                              Title  \\\n",
      "0            3  Wall St. Bears Claw Back Into the Black (Reuters)   \n",
      "1            3  Carlyle Looks Toward Commercial Aerospace (Reu...   \n",
      "2            3    Oil and Economy Cloud Stocks' Outlook (Reuters)   \n",
      "3            3  Iraq Halts Oil Exports from Main Southern Pipe...   \n",
      "4            3  Oil prices soar to all-time record, posing new...   \n",
      "\n",
      "                                         Description  \n",
      "0  Reuters - Short-sellers, Wall Street's dwindli...  \n",
      "1  Reuters - Private investment firm Carlyle Grou...  \n",
      "2  Reuters - Soaring crude prices plus worries\\ab...  \n",
      "3  Reuters - Authorities have halted oil export\\f...  \n",
      "4  AFP - Tearaway world oil prices, toppling reco...  \n"
     ]
    }
   ],
   "source": [
    "# Importing the dataset. As done in lab 4, you usually have a look at the data. Here we simply show the first 5 rows\n",
    "train_data = pd.read_csv(\"train.csv\")\n",
    "test_data = pd.read_csv(\"test.csv\")\n",
    "print(train_data.head(5))\n",
    "\n"
   ]
  },
  {
   "attachments": {},
   "cell_type": "markdown",
   "metadata": {},
   "source": [
    "Change labels from 1-4 to 0-3"
   ]
  },
  {
   "cell_type": "code",
   "execution_count": 3,
   "metadata": {},
   "outputs": [],
   "source": [
    "# substract 1 from the target variable for both, train and test data\n",
    "train_data[\"Class Index\"] = train_data[\"Class Index\"] - 1\n",
    "test_data[\"Class Index\"] = test_data[\"Class Index\"] - 1\n",
    "label_names = [\"World\", \"Sports\", \"Business\", \"Sci/Tech\"] # 0 is \"World\", 1 is \"Sports\", ..."
   ]
  },
  {
   "attachments": {},
   "cell_type": "markdown",
   "metadata": {},
   "source": [
    "## Preprocessing \n",
    "\n",
    "Lowercase descriptions and clean up non-letter characters.\n",
    "\n",
    "**TODO 1**: Remove the occurences of \"http\" \"href\", \"https\" and \"www\". Also, remove the names of the news agencies (Reuters, AP, ...) from the datasets."
   ]
  },
  {
   "cell_type": "markdown",
   "metadata": {},
   "source": [
    "In the following code, a fucntion is defined as a preprocess_text which deals with the cleaning and proecessing of text in both training and testing data. This function do a various tasks which are listed below.\n",
    "1) First, it replace  any URL that start with either http or https that was present in the dataframe with space.\n",
    "2) After examing on the data, it shows that there are few text (domain name ) which comes with the **.com** only. So these were also removed by executing the code.\n",
    "3) At the starting of description columns in almost each rows, there is a name of news agency companies and location from where the news was reported. So it time to remove these words to get the better results. All the common news agency names that appear on the data were store in a variables and, in first, that location name or anything that comes before the news agency name was removed and after that the words that comes under the **news_agencies** variable were removed from the dataframe.\n",
    "4) Processing data in natural language processing is case sensative, that why all the string from the dataframe is change to lower case and also replace single quotes, backslashes and non alphabetic character with spaces was done.\n",
    "5) After examine on few data it show that still some html tags were present in dataframe, so it's a time to process all the tags that were present in dataframe, first store in **remove_html_tags** variable and then replace those tags with space. This step can be done after point number 3 but as it was already mentioned above that natural language processing is case sensative that means it only remove those letter that was passed through variables. In this case there is mix up on different html tag, some are in higher case and some are in lower case, that why first all the string was changed into the lower cases and **remove_html_tags** passed to replace those words with space.\n",
    "\n",
    "Finally, **preprocess_text** fucntion is apply on both training and testing data in description columns only to get the clean data."
   ]
  },
  {
   "cell_type": "code",
   "execution_count": 4,
   "metadata": {},
   "outputs": [],
   "source": [
    "# Function to preprocess the data\n",
    "def preprocess_text(string):\n",
    "    # TODO 1: REMOVE http (html, ...) and news agencies names (Reuters, AP, ...)\n",
    "\n",
    "     # Removing URLs having http and https\n",
    "    \n",
    "    string = re.sub(r'http[s]?://(?:[a-zA-Z]|[0-9]|[$-_@.&+]|[!*\\(\\),]|(?:%[0-9a-fA-F][0-9a-fA-F]))+', ' ', string)\n",
    "    \n",
    "    # Removing any text with website names (.com)\n",
    "    string = re.sub(r'\\S*\\.com\\S*', ' ', string)\n",
    "\n",
    "    # Removing any text before news agencies names\n",
    "    news_agencies = ['Reuters','AP','CNN','AFP','CP']  \n",
    "    string = re.sub(fr'.*?({\"|\".join(news_agencies)})', r'\\1', string)\n",
    "\n",
    "    # Removing news agency name \n",
    "    for agency_name in news_agencies:\n",
    "     string = string.replace(agency_name, '')\n",
    "\n",
    "    # Converting entire string to lowercase and replace single quotes, backslashes and non alphabetic character with spaces\n",
    "    string = string.lower()\n",
    "    string = string.replace(\"'\", \" \")\n",
    "    string = string.replace(\"\\\\\", \" \")\n",
    "    string = re.sub(r\"[^a-zA-Z]\", \" \", string)\n",
    "\n",
    "\n",
    "     # Removing html tags from entire string in dataframe\n",
    "    remove_html_tags = ['http','https', 'href', 'www','quot', 'lt', 'html']\n",
    "    for html_tags  in remove_html_tags:\n",
    "     string = string.replace(html_tags, '')\n",
    "     \n",
    "    return string\n",
    "train_data[\"Description\"] = train_data[\"Description\"].apply(preprocess_text)\n",
    "test_data[\"Description\"] = test_data[\"Description\"].apply(preprocess_text)"
   ]
  },
  {
   "attachments": {},
   "cell_type": "markdown",
   "metadata": {},
   "source": [
    "Convert dataframes to lists (needed for further functions)."
   ]
  },
  {
   "cell_type": "code",
   "execution_count": 5,
   "metadata": {},
   "outputs": [],
   "source": [
    "train_data_list = train_data[\"Description\"].tolist()\n",
    "test_data_list = test_data[\"Description\"].tolist()\n",
    "train_labels_list = train_data[\"Class Index\"].tolist()\n",
    "test_labels_list = test_data[\"Class Index\"].tolist()"
   ]
  },
  {
   "attachments": {},
   "cell_type": "markdown",
   "metadata": {},
   "source": [
    "Create validation set (taking out 20% of test set)"
   ]
  },
  {
   "cell_type": "code",
   "execution_count": 6,
   "metadata": {},
   "outputs": [],
   "source": [
    "(train_data_list, validation_data_list,\n",
    " train_labels_list, validation_labels_list) = train_test_split(train_data_list, train_labels_list, test_size=0.2, stratify=train_labels_list)"
   ]
  },
  {
   "attachments": {},
   "cell_type": "markdown",
   "metadata": {},
   "source": [
    "### Removing Stop Words\n",
    "Remove stopwords from the *stopword* corpus."
   ]
  },
  {
   "cell_type": "code",
   "execution_count": 7,
   "metadata": {},
   "outputs": [
    {
     "name": "stderr",
     "output_type": "stream",
     "text": [
      "[nltk_data] Downloading package stopwords to\n",
      "[nltk_data]     C:\\Users\\acer\\AppData\\Roaming\\nltk_data...\n",
      "[nltk_data]   Package stopwords is already up-to-date!\n"
     ]
    }
   ],
   "source": [
    "nltk.download(\"stopwords\")\n",
    "def remove_stopwords(data_list):\n",
    "    stopword_list = stopwords.words(\"english\")\n",
    "    for i in range(len(data_list)):\n",
    "        data_list[i] = \" \".join(\n",
    "            [word for word in data_list[i].split() if word not in (stopword_list)]\n",
    "        )\n",
    "    return data_list"
   ]
  },
  {
   "cell_type": "code",
   "execution_count": 8,
   "metadata": {},
   "outputs": [],
   "source": [
    "train_data_list = remove_stopwords(train_data_list)\n",
    "validation_data_list = remove_stopwords(validation_data_list)\n",
    "test_data_list = remove_stopwords(test_data_list)"
   ]
  },
  {
   "attachments": {},
   "cell_type": "markdown",
   "metadata": {},
   "source": [
    "### TODO 2: STEMMING\n",
    "Use **Stemming** or **Lemmatization** to grammatical word variations."
   ]
  },
  {
   "cell_type": "markdown",
   "metadata": {},
   "source": [
    "For simplifying grammatical word variation, stemming technique is used over here. Stemming is a technique used to reduce words to their base form know as stem. For example, after applying a stemming on a word like 'running','runner' and 'ran' , it would changed into 'run'."
   ]
  },
  {
   "cell_type": "markdown",
   "metadata": {},
   "source": [
    "To perform stemming, **PoterStemmer** was imported from the Natural Language Toolkit(nltk) library (Which is already define in import section on the stating of report). In the follwing cell, the code define a **'stem_list'** function that take a list of words that is **'word_list'** as a input and applies steamming to each word using the PorterStemmer. "
   ]
  },
  {
   "cell_type": "code",
   "execution_count": 9,
   "metadata": {},
   "outputs": [],
   "source": [
    "# TODO 2: \n",
    "\n",
    "#Applying stemming to simplify grammatical word variations\n",
    "\n",
    "stemmer = PorterStemmer()\n",
    "def stem_list(word_list):\n",
    "    return [stemmer.stem(word) for word in word_list]\n",
    "\n"
   ]
  },
  {
   "cell_type": "code",
   "execution_count": 10,
   "metadata": {},
   "outputs": [],
   "source": [
    "train_data_list = stem_list(train_data_list)\n",
    "validation_data_list = stem_list(validation_data_list)\n",
    "test_data_list = stem_list(test_data_list)"
   ]
  },
  {
   "attachments": {},
   "cell_type": "markdown",
   "metadata": {},
   "source": [
    "## 2. Recurrent Neural Network classifier with Keras and Tensorflow"
   ]
  },
  {
   "attachments": {},
   "cell_type": "markdown",
   "metadata": {},
   "source": [
    "One-hot encode the labels (0 -> 0001, 1 -> 0010, ...) to match NN classifier head output."
   ]
  },
  {
   "cell_type": "code",
   "execution_count": 11,
   "metadata": {},
   "outputs": [
    {
     "name": "stdout",
     "output_type": "stream",
     "text": [
      "(96000, 4)\n"
     ]
    }
   ],
   "source": [
    "# the labels are of value 0, 1, 2, 3. We need to convert them to one-hot encoded vectors \n",
    "train_labels = tensorflow.keras.utils.to_categorical(np.array(train_labels_list), num_classes=4)\n",
    "validation_labels = tensorflow.keras.utils.to_categorical(np.array(validation_labels_list), num_classes=4)\n",
    "test_labels = tensorflow.keras.utils.to_categorical(np.array(test_labels_list), num_classes=4)\n",
    "print(train_labels.shape)"
   ]
  },
  {
   "attachments": {},
   "cell_type": "markdown",
   "metadata": {},
   "source": [
    "First we use the TextVectorization layer to convert the text to a sequence of integers. You can read about how this works  [here](https://www.tensorflow.org/api_docs/python/tf/keras/layers/TextVectorization).\n"
   ]
  },
  {
   "cell_type": "code",
   "execution_count": 12,
   "metadata": {},
   "outputs": [
    {
     "name": "stdout",
     "output_type": "stream",
     "text": [
      "['', '[UNK]', 'said', 'new', 'year', 'us', 'two', 'first', 'wednesday', 'monday', 'world', 'tuesday', 'thursday', 'one', 'company', 'friday', 'gt', 'inc', 'u', 'last', 'yesterday', 'three', 'president', 'week', 'million', 'corp', 'oil', 'sunday', 'would', 'united', 'today', 'time', 'government', 'game', 'people', 'could', 'second', 'group', 'saturday', 'season', 'iraq', 'next', 'night', 'third', 'day', 'years', 'percent', 'software', 'york', 'security', 'microsoft', 'team', 'prices', 'stocks', 'minister', 'internet', 'quarter', 'market', 'four', 'back', 'announced', 'high', 'international', 'state', 'billion', 'month', 'may', 'top', 'n', 'win', 'former', 'officials', 'news', 'record', 'end', 'open', 'states', 'european', 'business', 'largest', 'city', 'american', 'report', 'victory', 'federal', 'says', 'prime', 'e', 'network', 'league', 'computer', 'washington', 'killed', 'five', 'home', 'national', 'technology', 'country', 'according', 'co', 'service', 'bush', 'say', 'research', 'china', 'target', 'major', 'made', 'chief', 'sales', 'maker', 'least', 'expected', 'court', 'lead', 'reported', 'plans', 'long', 'set', 'cup', 'british', 'online', 'search', 'companies', 'south', 'bank', 'make', 'based', 'final', 'take', 'another', 'old', 'giant', 'help', 'deal', 'profit', 'police', 'coach', 'since', 'way', 'left', 'system', 'run', 'john', 'sports', 'agreed', 'web', 'iraqi', 'leader', 'shares', 'music', 'hit', 'red', 'series', 'san', 'mobile', 'quickinfo', 'fulle', 'industry', 'military', 'early', 'six', 'union', 'north', 'plan', 'like', 'al', 'get', 'many', 'space', 'war', 'games', 'services', 'even', 'still', 'general', 'ago', 'election', 'st', 'biggest', 'half', 'including', 'rose', 'india', 'big', 'palestinian', 'baghdad', 'th', 'wireless', 'start', 'stock', 'japan', 'executive', 'days', 'strong', 'play', 'data', 'official', 'olympic', 'held', 'latest', 'round', 'part', 'much', 'bid', 'months', 'trade', 'growth', 'talks', 'players', 'test', 'higher', 'google', 'nuclear', 'released', 'points', 'phone', 'dollar', 'australia', 'boston', 'move', 'london', 'fourth', 'go', 'head', 'called', 'nearly', 'attack', 'championship', 'global', 'loss', 'street', 'west', 'public', 'england', 'cut', 'israeli', 'nation', 'presidential', 'man', 'work', 'earnings', 'firm', 'air', 'seven', 'foreign', 'despite', 'found', 'ahead', 'ibm', 'financial', 'economic', 'right', 'car', 'windows', 'investors', 'gold', 'around', 'football', 'drug', 'took', 'face', 'free', 'fell', 'russian', 'amp', 'america', 'pay', 'also', 'buy', 'used', 'leading', 'users', 'past', 'number', 'near', 'following', 'p', 'key', 'weeks', 'use', 'nations', 'sox', 'led', 'troops', 'forces', 'systems', 'per', 'version', 'agency', 'profile', 'region', 'reports', 'video', 'program', 'beat', 'athens', 'put', 'media', 'late', 'men', 'contract', 'killing', 'commission', 'french', 'release', 'australian', 'best', 'support', 'wall', 'recent', 'apple', 'share', 'champion', 'several', 'rival', 'player', 'demand', 'might', 'agreement', 'russia', 'economy', 'un', 'whether', 'show', 'october', 'close', 'scored', 'power', 'workers', 'price', 'northern', 'making', 'scientists', 'digital', 'source', 'gaza', 'europe', 'capital', 'crude', 'cost', 'leaders', 'school', 'low', 'southern', 'well', 'eight', 'michael', 'running', 'offer', 'japanese', 'without', 'little', 'francisco', 'oracle', 'conference', 'bomb', 'consumer', 'interest', 'campaign', 'party', 'september', 'florida', 'field', 'department', 'house', 'political', 'manager', 'hurricane', 'job', 'central', 'intel', 'jobs', 'energy', 'good', 'university', 'across', 'using', 'due', 'saying', 'lower', 'decision', 'away', 'peace', 'champions', 'star', 'attacks', 'product', 'california', 'management', 'launched', 'give', 'board', 'center', 'pc', 'weekend', 'taking', 'britain', 'quarterly', 'match', 'products', 'straight', 'israel', 'army', 'pakistan', 'meeting', 'life', 'launch', 'line', 'shot', 'uk', 'title', 'iran', 'club', 'return', 'keep', 'chicago', 'customers', 'become', 'nasa', 'winning', 'chairman', 'secretary', 'women', 'place', 'death', 'sun', 'november', 'lost', 'communications', 'told', 'senior', 'peoplesoft', 'los', 'operating', 'office', 'heah', 'defense', 'signed', 'stadium', 'among', 'information', 'b', 'linux', 'chip', 'posted', 'almost', 'net', 'mark', 'less', 'korea', 'exchange', 'warned', 'france', 'east', 'better', 'increase', 'future', 'charges', 'bill', 'grand', 'money', 'oct', 'david', 'mail', 'control', 'small', 'site', 'ever', 'militants', 'kerry', 'resus', 'houston', 'baseball', 'television', 'race', 'point', 'began', 'real', 'post', 'morning', 'case', 'yankees', 'thousands', 'tax', 'accused', 'force', 'earlier', 'reserve', 'behind', 'nine', 'helped', 'anti', 'come', 'trading', 'full', 'cash', 'times', 'showed', 'angeles', 'amid', 'fans', 'opening', 'ended', 'came', 'association', 'rise', 'got', 'texas', 'going', 'tokyo', 'barrel', 'term', 'canada', 'arafat', 'c', 'stores', 'august', 'offering', 'likely', 'judge', 'darfur', 'yet', 'fund', 'law', 'elections', 'access', 'sell', 'food', 'far', 'rate', 'western', 'costs', 'already', 'possible', 'battle', 'action', 'hopes', 'members', 'died', 'administration', 'growing', 'nov', 'division', 'trying', 'yards', 'soon', 'within', 'george', 'gave', 'chinese', 'begin', 'white', 'see', 'press', 'unit', 'corporate', 'step', 'tour', 'german', 'short', 'outside', 'human', 'tim', 'trial', 'quarterback', 'look', 'fight', 'personal', 'local', 'speed', 'meet', 'afghanistan', 'hostage', 'hard', 'store', 'medal', 'known', 'popular', 'font', 'african', 'radio', 'career', 'fall', 'main', 'council', 'continued', 'injured', 'hours', 'history', 'study', 'reach', 'opposition', 'airlines', 'production', 'aimed', 'stop', 'starting', 'find', 'williams', 'paul', 'germany', 'efforts', 'euro', 'failed', 'sept', 'authorities', 'takeover', 'reached', 'performance', 'yasser', 'rebel', 'fire', 'revenue', 'retailer', 'gas', 'desktop', 'giants', 'engine', 'effort', 'sudan', 'analysts', 'server', 'jones', 'insurance', 'taken', 'africa', 'rates', 'miami', 'hold', 'countries', 'bay', 'filed', 'looking', 'tech', 'sony', 'soldiers', 'computers', 'violence', 'level', 'fuel', 'area', 'enough', 'concerns', 'coast', 'strike', 'finally', 'indian', 'raised', 'designed', 'forecast', 'selling', 'dead', 'manchester', 'investment', 'must', 'cell', 'large', 'electronics', 'development', 'heart', 'bankruptcy', 'change', 'americans', 'airline', 'vote', 'legal', 'great', 'allow', 'yahoo', 'went', 'children', 'toward', 'executives', 'securities', 'file', 'coming', 'cent', 'tony', 'annual', 'tv', 'list', 'green', 'teams', 'need', 'side', 'powerful', 'visit', 'never', 'spain', 'nfl', 'labor', 'fighting', 'retail', 'getting', 'arrested', 'muslim', 'bowl', 'democratic', 'w', 'cbs', 'working', 'drop', 'paris', 'flight', 'devices', 'survey', 'park', 'networks', 'weapons', 'researchers', 'toronto', 'call', 'compani', 'college', 'planned', 'italian', 'pressure', 'fired', 'every', 'worth', 'private', 'hundreds', 'rights', 'provide', 'sent', 'others', 'consumers', 'approved', 'sign', 'eu', 'atlanta', 'seattle', 'blue', 'attempt', 'goal', 'charged', 'basketball', 'suspected', 'phones', 'gam', 'competition', 'rebels', 'madrid', 'profits', 'claims', 'named', 'aid', 'island', 'islamic', 'spending', 'rally', 'r', 'station', 'rising', 'canadian', 'family', 'threat', 'sold', 'ipod', 'holiday', 'continue', 'asked', 'current', 'boost', 'size', 'supply', 'investigation', 'g', 'guard', 'ruling', 'giving', 'town', 'unveiled', 'steve', 'olympics', 'ceo', 'name', 'miss', 'markets', 'build', 'seen', 'ranked', 'philadelphia', 'touchdown', 'strip', 'fifth', 'young', 'officer', 'expect', 'decided', 'confirmed', 'com', 'process', 'holding', 'resu', 'nasdaq', 'moscow', 'louis', 'calif', 'staff', 'moved', 'drive', 'policy', 'mike', 'increased', 'average', 'dollars', 'card', 'claimed', 'turned', 'turn', 'regulators', 'operations', 'fresh', 'try', 'available', 'terror', 'spokesman', 'black', 'though', 'medical', 'finance', 'earth', 'detroit', 'wants', 'prison', 'opened', 'chance', 'captain', 'rivals', 'double', 'order', 'ending', 'arsenal', 'businesses', 'gains', 'suicide', 'stake', 'project', 'employees', 'added', 'outlook', 'later', 'risk', 'act', 'generation', 'received', 'let', 'want', 'middle', 'given', 'asia', 'defeat', 'claim', 'airways', 'ground', 'december', 'sale', 'playing', 'asian', 'spam', 'ivan', 'millions', 'inning', 'hand', 'forward', 'advanced', 'ready', 'l', 'develop', 'beijing', 'technologies', 'storm', 'bring', 'blair', 'problems', 'minnesota', 'equipment', 'director', 'building', 'alleged', 'soccer', 'runs', 'played', 'mw', 'militant', 'able', 'sharon', 'hospital', 'hope', 'enterprise', 'along', 'cricket', 'storage', 'ruled', 'lawsuit', 'interim', 'focus', 'whose', 'pro', 'clear', 'related', 'fears', 'experts', 'single', 'satellite', 'debt', 'calls', 'create', 'losing', 'track', 'threatened', 'summer', 'know', 'fraud', 'congress', 'x', 'winter', 'started', 'lines', 'initial', 'accounting', 'problem', 'johnson', 'urged', 'terrorist', 'terrorism', 'groups', 'greece', 'leaving', 'evidence', 'xp', 'missing', 'charge', 'talk', 'proposed', 'minutes', 'citing', 'warning', 'tournament', 'special', 'forced', 'closer', 'beating', 'met', 'dvd', 'became', 'sources', 'safety', 'returned', 'push', 'ag', 'think', 'organization', 'body', 'credit', 'airport', 'water', 'wide', 'offered', 'offensive', 'electronic', 'camp', 'wounded', 'standard', 'ireland', 'insurgents', 'committee', 'remain', 'light', 'elect', 'ban', 'ariel', 'losses', 'kept', 'dea', 'challenge', 'afghan', 'ryder', 'rocket', 'dutch', 'recently', 'golf', 'f', 'crisis', 'sites', 'range', 'leave', 'injury', 'expectations', 'entertainment', 'chain', 'nyse', 'newspaper', 'highest', 'travel', 'singh', 'issue', 'applications', 'rejected', 'huge', 'concern', 'member', 'hour', 'brought', 'aircraft', 'eastern', 'device', 'seeking', 'road', 'pass', 'italy', 'davis', 'comes', 'heavy', 'front', 'drugs', 'dropped', 'commercial', 'aug', 'ahough', 'potential', 'oakland', 'ms', 'countri', 'busi', 'sending', 'developed', 'virginia', 'tonight', 'thought', 'dow', 'mission', 'attorney', 'nba', 'carrier', 'brown', 'zealand', 'makes', 'role', 'position', 'playoff', 'care', 'acquisition', 'send', 'gain', 'rest', 'fast', 'course', 'break', 'application', 'moon', 'event', 'afternoon', 'spanish', 'important', 'closed', 'provider', 'bui', 'ministry', 'avoid', 'servic', 'hostile', 'host', 'form', 'woman', 'settle', 'fallujah', 'sans', 'issued', 'cuts', 'browser', 'wal', 'threw', 'instead', 'formula', 'processor', 'explosion', 'consecutive', 'saw', 'remains', 'published', 'jose', 'deficit', 'color', 'chips', 'raise', 'prix', 'kidnapped', 'homes', 'dell', 'dec', 'expects', 'cisco', 'slow', 'slightly', 'previous', 'hoping', 'yard', 'scheduled', 'july', 'debate', 'vice', 'striker', 'sharply', 'republican', 'futures', 'border', 'bad', 'pace', 'cleric', 'stage', 'protect', 'palestinians', 'supreme', 'justice', 'hockey', 'cleveland', 'backed', 'issues', 'introduced', 'suspended', 'success', 'illegal', 'caused', 'wanted', 'tiger', 'merger', 'voters', 'controversial', 'verdana', 'stand', 'serif', 'helvetica', 'firms', 'code', 'arial', 'struck', 'sector', 'yukos', 'total', 'streak', 'proposal', 'poor', 'plc', 'needed', 'appeared', 'troubled', 'planning', 'howard', 'touchdowns', 'ran', 'pittsburgh', 'parliament', 'motor', 'acquire', 'watch', 'roger', 'movie', 'pulled', 'premier', 'korean', 'joint', 'james', 'de', 'abu', 'statement', 'room', 'update', 'semiconductor', 'kansas', 'hollywood', 'yen', 'worst', 'negotiations', 'mart', 'showing', 'confidence', 'buying', 'save', 'question', 'probably', 'helping', 'carolina', 'together', 'shows', 'disney', 'calling', 'spot', 'shopping', 'period', 'massive', 'longer', 'spent', 'draw', 'domestic', 'spacecraft', 'passed', 'mass', 'winner', 'taiwan', 'nextel', 'innings', 'boeing', 'woods', 'tom', 'sprint', 'revealed', 'remained', 'jason', 'chelsea', 'rules', 'prize', 'operator', 'memory', 'kong', 'dallas', 'reduce', 'najaf', 'makers', 'candidate', 'boss', 'vladimir', 'virus', 'uranium', 'secure', 'hong', 'class', 'civil', 'banks', 'signs', 'mexico', 'content', 'changes', 'broadband', 'armed', 'mortgage', 'exploded', 'colin', 'beginning', 'things', 'january', 'qaeda', 'ohio', 'intelligence', 'cardinals', 'cable', 'worries', 'broke', 'astros', 'weather', 'sharp', 'features', 'associated', 'announce', 'takes', 'suffered', 'sharing', 'debut', 'parts', 'auto', 'dispute', 'conflict', 'mid', 'marketing', 'march', 'moving', 'different', 'arrived', 'struggling', 'minute', 'microsystems', 'figures', 'diego', 'stay', 'something', 'industrial', 'film', 'worldwide', 'servers', 'jump', 'j', 'improve', 'decline', 'tennis', 'setting', 'serious', 'protection', 'platform', 'operation', 'mac', 'join', 'ford', 'bn', 'ball', 'thailand', 'scandal', 'raising', 'paid', 'appears', 'advertising', 'training', 'facing', 'download', 'delhi', 'supplies', 'sport', 'ordered', 'nokia', 'looks', 'continues', 'senate', 'row', 'owner', 'machines', 'king', 'extended', 'baimore', 'putin', 'pric', 'pm', 'indonesia', 'guiy', 'rich', 'falling', 'decade', 'corporation', 'base', 'arab', 'turkey', 'shareholders', 'session', 'panel', 'linked', 'express', 'complete', 'breaking', 'brazil', 'pakistani', 'assau', 'plane', 'miles', 'believe', 'seconds', 'impact', 'decades', 'wild', 'sadr', 'martin', 'jets', 'funds', 'telephone', 'science', 'msn', 'witnesses', 'traders', 'tomorrow', 'terms', 'income', 'block', 'wounding', 'richard', 'manufacturing', 'cause', 'arizona', 'approval', 'direct', 'developing', 'classic', 'bit', 'rain', 'producer', 'packard', 'holdings', 'hewlett', 'daily', 'christmas', 'warner', 'tehran', 'sydney', 'sen', 'relief', 'plus', 'non', 'goals', 'tried', 'settlement', 'residents', 'pitcher', 'often', 'masters', 'grew', 'cutting', 'century', 'becoming', 'awaited', 'practice', 'plant', 'pilots', 'bonds', 'amd', 'thanks', 'positive', 'defensive', 'previously', 'patriots', 'easy', 'criminal', 'completed', 'budget', 'announcement', 'tough', 'tool', 'inflation', 'hotel', 'hits', 'heating', 'expand', 'consider', 'bought', 'stewart', 'review', 'programs', 'live', 'inside', 'common', 'check', 'venture', 'probe', 'nhl', 'ministers', 'fiscal', 'critical', 'saddam', 'hot', 'faces', 'community', 'questions', 'progress', 'offers', 'hurt', 'egypt', 'twice', 'royal', 'recovery', 'purchase', 'defending', 'surprise', 'lawsuits', 'investor', 'foot', 'appeal', 'republic', 'province', 'voting', 'tools', 'telecommunications', 'rule', 'reason', 'nigeria', 'familiar', 'sixth', 'seems', 'missile', 'kashmir', 'discovered', 'award', 'apparently', 'strategy', 'significant', 'protest', 'par', 'jumped', 'auction', 'trip', 'needs', 'model', 'irish', 'handed', 'atomic', 'sudanese', 'seventh', 'passes', 'looked', 'view', 'spend', 'pack', 'joined', 'deadly', 'commerce', 'allowed', 'utah', 'species', 'pcs', 'motors', 'jeff', 'gulf', 'english', 'chart', 'analyst', 'interview', 'damage', 'crowd', 'considering', 'chris', 'banking', 'sea', 'michigan', 'include', 'cos', 'anaheim', 'sure', 'replace', 'racing', 'person', 'majority', 'format', 'blow', 'andy', 'screen', 'peer', 'karzai', 'display', 'alan', 'trophy', 'pacific', 'numbers', 'message', 'image', 'crucial', 'agent', 'surgery', 'sanctions', 'independent', 'filing', 'embassy', 'arm', 'testing', 'robert', 'living', 'fla', 'watchdog', 'voice', 'ten', 'strength', 'receiver', 'really', 'powell', 'nothing', 'district', 'delay', 'bringing', 'benefits', 'adding', 'treasury', 'toll', 'planet', 'land', 'kevin', 'hamid', 'design', 'denied', 'declared', 'bombing', 'blood', 'ticker', 'regular', 'pre', 'mars', 'hussein', 'historic', 'fastest', 'driver', 'done', 'dolphins', 'colorado', 'boosted', 'allows', 'upcoming', 'story', 'output', 'natural', 'highs', 'finished', 'delayed', 'defence', 'core', 'commissioner', 'atlantic', 'weak', 'traffic', 'ninth', 'missed', 'liverpool', 'blast', 'barry', 'allegations', 'super', 'seri', 'jail', 'itunes', 'finding', 'crash', 'value', 'singapore', 'saudi', 'regional', 'qualifying', 'perc', 'hostages', 'surged', 'successful', 'ray', 'package', 'eagles', 'crashed', 'begun', 'voted', 'sought', 'index', 'flu', 'flat', 'finish', 'add', 'promised', 'lift', 'fin', 'eighth', 'doctors', 'discuss', 'students', 'prosecutors', 'preparing', 'portable', 'owners', 'dozens', 'antitrust', 'alliance', 'merck', 'managers', 'knee', 'includes', 'donald', 'details', 'customer', 'climate', 'believes', 'vioxx', 'technolog', 'shiite', 'orders', 'joe', 'jet', 'heat', 'crew', 'rather', 'mutual', 'ivory', 'headed', 'changed', 'carrying', 'word', 'retirement', 'resolution', 'reportedly', 'notre', 'june', 'involved', 'hands', 'created', 'via', 'seek', 'pushed', 'opec', 'levels', 'handheld', 'entered', 'developer', 'cars', 'book', 'alex', 'zone', 'speculation', 'jerusalem', 'hamas', 'firefox', 'denver', 'coalition', 'carlos', 'areas', 'thing', 'records', 'putting', 'nascar', 'lot', 'homer', 'summit', 'sir', 'rangers', 'owned', 'kabul', 'expansion', 'always', 'allegedly', 'vowed', 'tight', 'tampa', 'pair', 'finals', 'emergency', 'driven', 'cubs', 'cincinnati', 'certain', 'bombs', 'smith', 'prepared', 'pension', 'cross', 'wake', 'train', 'steel', 'soldier', 'rookie', 'mozilla', 'hat', 'draft', 'documents', 'ask', 'wrong', 'widely', 'veteran', 'smaller', 'shut', 'separate', 'placed', 'mets', 'keeping', 'gets', 'enron', 'earn', 'craig', 'computing', 'withdraw', 'victims', 'retailers', 'info', 'enrichment', 'edition', 'demands', 'cabinet', 'br', 'anticipated', 'scoring', 'request', 'rare', 'property', 'prince', 'overnight', 'os', 'nl', 'nintendo', 'ha', 'arrest', 'acquired', 'ways', 'newly', 'lawyers', 'goods', 'deep', 'dame', 'camera', 'brand', 'admitted', 'upset', 'opener', 'newsfactor', 'jakarta', 'continuing', 'tie', 'tennessee', 'improved', 'grow', 'gone', 'closing', 'associates', 'murder', 'indonesian', 'indiana', 'increasingly', 'decide', 'turning', 'renewed', 'photo', 'offense', 'effect', 'currency', 'arms', 'softwar', 'similar', 'quickly', 'opportunity', 'nationwide', 'hardware', 'greater', 'disappointing', 'cancer', 'beyond', 'agencies', 'unless', 'traditional', 'pedro', 'launching', 'jewish', 'faster', 'deadline', 'appear', 'vehicle', 'suit', 'stars', 'remote', 'preliminary', 'extra', 'ebay', 'charles', 'believed', 'angels', 'wa', 'telecom', 'spyware', 'pick', 'matter', 'greek', 'gary', 'candidates', 'wayne', 'wave', 'tests', 'picture', 'pga', 'officers', 'nikkei', 'matt', 'hole', 'wales', 'son', 'score', 'rallied', 'partners', 'instant', 'hurricanes', 'explorer', 'era', 'edged', 'county', 'broadcast', 'bodies', 'allowing', 'airbus', 'ukraine', 'treatment', 'stronger', 'remaining', 'industri', 'convention', 'brian', 'account', 'warming', 'unions', 'threatening', 'shooting', 'resigned', 'premiership', 'officially', 'investigating', 'faced', 'exports', 'el', 'defeated', 'advantage', 'upgrade', 'unbeaten', 'supporters', 'stroke', 'seeded', 'movies', 'martinez', 'jr', 'georgia', 'edge', 'approach', 'accept', 'secret', 'pitch', 'micro', 'jacques', 'date', 'conditions', 'activity', 'sit', 'seed', 'ron', 'refused', 'partnership', 'flights', 'comments', 'broken', 'traded', 'rock', 'pt', 'gunmen', 'extend', 'entire', 'economi', 'difficu', 'assets', 'allawi', 'ability', 'van', 'speech', 'response', 'musharraf', 'motion', 'immediately', 'declined', 'threats', 'standards', 'smart', 'resume', 'pull', 'patent', 'moves', 'larry', 'hp', 'holy', 'bryant', 'overall', 'mixed', 'h', 'eased', 'claiming', 'cingular', 'polls', 'parent', 'islamabad', 'images', 'tiny', 'sym', 'scotland', 'qtype', 'qcat', 'protocol', 'overtime', 'names', 'manufacturer', 'infotype', 'fear', 'emerged', 'doubt', 'doubled', 'dodgers', 'advance', 'throughout', 'terrorists', 'read', 'lose', 'dozen', 'deliver', 'copyright', 'solid', 'shipping', 'sex', 'novell', 'mr', 'leadership', 'hall', 'federer', 'fact', 'drove', 'democracy', 'caught', 'cards', 'wins', 'shuttle', 'scientific', 'rebounds', 'reaching', 'poll', 'pervez', 'means', 'la', 'increasing', 'haiti', 'expressed', 'earthquake', 'disease', 'channel', 'theft', 'soaring', 'semi', 'sbc', 'sal', 'peopl', 'involving', 'idea', 'heading', 'carry', 'address', 'sri', 'prevent', 'picked', 'montreal', 'marathon', 'leg', 'kind', 'insisted', 'govern', 'fi', 'evening', 'estimates', 'd', 'custom', 'cold', 'beta', 'bears', 'authority', 'wi', 'virgin', 'ship', 'reporting', 'recording', 'professional', 'oklahoma', 'newcastle', 'manning', 'jan', 'files', 'creating', 'april', 'wait', 'titan', 'radical', 'provided', 'ongoing', 'massachusetts', 'journal', 'java', 'frank', 'founder', 'eye', 'crimes', 'cities', 'cents', 'captured', 'bird', 'bin', 'announcing', 'violent', 'trouble', 'taliban', 'scott', 'options', 'messaging', 'kill', 'annan', 'age', 'withdrawal', 'vijay', 'technical', 'swiss', 'surge', 'sides', 'priority', 'perhaps', 'parties', 'jersey', 'iraqis', 'internal', 'gained', 'everything', 'cuba', 'verizon', 'thomas', 'tackle', 'style', 'self', 'legislation', 'failing', 'deputy', 'compete', 'child', 'bigley', 'benefit', 'auburn', 'attention', 'activities', 'wife', 'votes', 'soft', 'shock', 'magazine', 'lifted', 'highly', 'electric', 'dr', 'bell', 'attacked', 'saturn', 'refugee', 'msft', 'limited', 'hitting', 'hearing', 'falluja', 'expos', 'appeals', 'vendor', 'prisoners', 'passenger', 'orlando', 'indianapolis', 'goes', 'enter', 'considered', 'chase', 'bus', 'brussels', 'bottom', 'stem', 'situation', 'partner', 'laden', 'forecasts', 'drew', 'dramatic', 'directors', 'columbia', 'books', 'torn', 'roddick', 'onto', 'kofi', 'fellow', 'feature', 'dominated', 'beach', 'antonio', 'scientist', 'ranking', 'peter', 'messages', 'fan', 'criticism', 'bob', 'visiting', 'targets', 'southeast', 'sentenced', 'seized', 'restructuring', 'milan', 'lineup', 'lawmakers', 'hear', 'driving', 'capacity', 'braves', 'bangladesh', 'aol', 'unlikely', 'uefa', 'typhoon', 'signing', 'scores', 'samsung', 'reform', 'redskins', 'networking', 'marsh', 'managed', 'heard', 'governor', 'doping', 'user', 'ties', 'social', 'slipped', 'sets', 'pledged', 'mp', 'ken', 'jury', 'flash', 'bills', 'agree', 'warn', 'toshiba', 'streets', 'receive', 'quite', 'quart', 'providers', 'preseason', 'perfect', 'pacers', 'injuring', 'export', 'anyone', 'vehicles', 'seemed', 'matches', 'lack', 'joining', 'housing', 'forest', 'fine', 'chances', 'boy', 'berlin', 'sued', 'postseason', 'possibly', 'pleaded', 'lee', 'expanding', 'dangerous', 'syria', 'studios', 'patients', 'orleans', 'labour', 'improving', 'governments', 'franchise', 'figure', 'embattled', 'clash', 'championships', 'arthritis', 'worm', 'towards', 'solar', 'resources', 'pushing', 'histori', 'greenspan', 'gates', 'fannie', 'construction', 'bobby', 'barcelona', 'quit', 'page', 'option', 'largely', 'iranian', 'ice', 'heavyweight', 'gordon', 'follow', 'broker', 'bbc', 'abuse', 'stopped', 'stepped', 'squad', 'shift', 'martha', 'lewis', 'fe', 'explosives', 'climbed', 'carried', 'anything', 'watched', 'waiting', 'victori', 'usa', 'suffering', 'relations', 'piracy', 'lows', 'foundation', 'elected', 'database', 'brazilian', 'ali', 'additional', 'words', 'truck', 'tied', 'seem', 'schilling', 'port', 'pitched', 'morgan', 'mae', 'egyptian', 'diplomats', 'desert', 'described', 'convicted', 'communist', 'cap', 'sound', 'paying', 'mind', 'militia', 'mean', 'identity', 'hewitt', 'graphics', 'freed', 'expanded', 'everyone', 'dismissed', 'born', 'twins', 'tigers', 'square', 'offset', 'monetary', 'mining', 'failure', 'environmental', 'education', 'developers', 'deals', 'closely', 'anniversary', 'winds', 'website', 'solution', 'ravens', 'quest', 'poised', 'petroleum', 'patch', 'mine', 'gaming', 'fought', 'flying', 'cassini', 'cannot', 'banned', 'successfully', 'potentially', 'knew', 'insurgent', 'injuri', 'however', 'frances', 'argentina', 'wind', 'suggest', 'strategic', 'providing', 'lives', 'links', 'lanka', 'kobe', 'fighters', 'ex', 'demanding', 'civilians', 'choice', 'centre', 'begins', 'beckham', 'asset', 'vendors', 'tell', 'spread', 'rolled', 'rescue', 'opponents', 'muiple', 'mui', 'love', 'jack', 'ii', 'hills', 'focused', 'engineers', 'disc', 'disaster', 'appointed', 'andre', 'amount', 'shots', 'seat', 'rooney', 'produced', 'link', 'jim', 'fix', 'events', 'either', 'competitive', 'catch', 'viruses', 'va', 'targeting', 'serving', 'returning', 'predicted', 'planes', 'northeast', 'lawyer', 'gives', 'friendly', 'dual', 'successor', 'schools', 'safe', 'produce', 'nigerian', 'jean', 'headquarters', 'fly', 'expert', 'dream', 'curt', 'chechen', 'bigger', 'universal', 'slam', 'sa', 'representatives', 'prove', 'lay', 'ed', 'band', 'apparent', 'zimbabwe', 'tens', 'songs', 'schedule', 'osama', 'mclennan', 'gathered', 'distance', 'cover', 'compared', 'au', 'assistant', 'aside', 'works', 'tropical', 'talking', 'sunni', 'song', 'shell', 'serve', 'scale', 'responsible', 'pound', 'phon', 'philippines', 'perform', 'mount', 'measures', 'maria', 'landmark', 'jackson', 'emerging', 'ease', 'earned', 'coaches', 'caribbean', 'box', 'arena', 'suggested', 'struggled', 'steelers', 'steady', 'raid', 'meter', 'machine', 'las', 'introduce', 'couple', 'coup', 'cool', 'connection', 'casino', 'bitter', 'ad', 'virtual', 'resolve', 'oper', 'nortel', 'nobel', 'k', 'investigators', 'invest', 'hamm', 'delivered', 'bomber']\n"
     ]
    }
   ],
   "source": [
    "# this will create a vocabulary of the top 2500 words and then convert the text to a sequence of numbers\n",
    "vocab_size = 2500 # how many of the most frequent words to keep\n",
    "sequence_length = 30 # how many words we use to represent a description\n",
    "vectorizer = TextVectorization(max_tokens=vocab_size, output_sequence_length=sequence_length)\n",
    "# fit the vectorizer on the training data (find the most common words and assign values to them)\n",
    "vectorizer.adapt(train_data_list)\n",
    "# show the selected words\n",
    "print(vectorizer.get_vocabulary())"
   ]
  },
  {
   "cell_type": "code",
   "execution_count": 13,
   "metadata": {},
   "outputs": [
    {
     "name": "stdout",
     "output_type": "stream",
     "text": [
      "(96000, 30)\n"
     ]
    }
   ],
   "source": [
    "# vectorize the training data (replace words by their associated values)\n",
    "train_data_vectorized = vectorizer(train_data_list)\n",
    "# vectorize the validation data\n",
    "validation_data_vectorized = vectorizer(validation_data_list)\n",
    "# vectorize the test data\n",
    "test_data_vectorized = vectorizer(test_data_list)\n",
    "# this shape shows that we have our 96000 training examples, each as a vector of 30 integers\n",
    "print(train_data_vectorized.shape)"
   ]
  },
  {
   "cell_type": "code",
   "execution_count": 14,
   "metadata": {},
   "outputs": [
    {
     "name": "stdout",
     "output_type": "stream",
     "text": [
      "tf.Tensor(\n",
      "[2463    1    1    1  599  558 2238 1627    0    0    0    0    0    0\n",
      "    0    0    0    0    0    0    0    0    0    0    0    0    0    0\n",
      "    0    0], shape=(30,), dtype=int64)\n"
     ]
    }
   ],
   "source": [
    "# see how a vectorized news description looks like\n",
    "print(train_data_vectorized[1])"
   ]
  },
  {
   "attachments": {},
   "cell_type": "markdown",
   "metadata": {},
   "source": [
    "We then build a RNN.\n",
    "\n",
    "We use an *Embedding layer* to convert the integer sequences to embeddings. You can read about how this works [here](https://www.tensorflow.org/api_docs/python/tf/keras/layers/Embedding).\n",
    "\n",
    "The Bidirectional layer takes the input and passes it forwards and backwards through the LSTM (Long-Short Term Memory) layer. It allows the network to learn the context of the sentence in both directions, so information from both previous and following words is taken into account.\n"
   ]
  },
  {
   "cell_type": "code",
   "execution_count": 15,
   "metadata": {},
   "outputs": [
    {
     "name": "stdout",
     "output_type": "stream",
     "text": [
      "Model: \"sequential\"\n",
      "_________________________________________________________________\n",
      " Layer (type)                Output Shape              Param #   \n",
      "=================================================================\n",
      " embedding (Embedding)       (None, None, 32)          80000     \n",
      "                                                                 \n",
      " bidirectional (Bidirectiona  (None, 64)               16640     \n",
      " l)                                                              \n",
      "                                                                 \n",
      " dense (Dense)               (None, 4)                 260       \n",
      "                                                                 \n",
      "=================================================================\n",
      "Total params: 96,900\n",
      "Trainable params: 96,900\n",
      "Non-trainable params: 0\n",
      "_________________________________________________________________\n",
      "Epoch 1/5\n",
      "750/750 [==============================] - 13s 14ms/step - loss: 0.4826 - accuracy: 0.8238 - val_loss: 0.3599 - val_accuracy: 0.8745\n",
      "Epoch 2/5\n",
      "750/750 [==============================] - 9s 12ms/step - loss: 0.3346 - accuracy: 0.8834 - val_loss: 0.3551 - val_accuracy: 0.8755\n",
      "Epoch 3/5\n",
      "750/750 [==============================] - 9s 12ms/step - loss: 0.3166 - accuracy: 0.8883 - val_loss: 0.3472 - val_accuracy: 0.8763\n",
      "Epoch 4/5\n",
      "750/750 [==============================] - 9s 12ms/step - loss: 0.3051 - accuracy: 0.8918 - val_loss: 0.3525 - val_accuracy: 0.8755\n",
      "Epoch 5/5\n",
      "750/750 [==============================] - 10s 13ms/step - loss: 0.2947 - accuracy: 0.8944 - val_loss: 0.3573 - val_accuracy: 0.8757\n",
      "238/238 [==============================] - 2s 4ms/step\n",
      "Test Set Accuracy:  0.8744736842105263\n"
     ]
    },
    {
     "data": {
      "text/plain": [
       "<Axes: >"
      ]
     },
     "execution_count": 15,
     "metadata": {},
     "output_type": "execute_result"
    },
    {
     "data": {
      "image/png": "[encoded data removed]",
      "text/plain": [
       "<Figure size 1000x700 with 2 Axes>"
      ]
     },
     "metadata": {},
     "output_type": "display_data"
    }
   ],
   "source": [
    "model = Sequential()\n",
    "model.add(Embedding(vocab_size, 32))\n",
    "model.add(Bidirectional(LSTM(32)))\n",
    "model.add(Dense(4, activation=\"softmax\"))\n",
    "\n",
    "model.summary()\n",
    "\n",
    "# compile the model\n",
    "model.compile(loss=\"categorical_crossentropy\", optimizer=\"adam\", metrics=[\"accuracy\"])\n",
    "\n",
    "# fit the model\n",
    "model.fit(\n",
    "    train_data_vectorized,\n",
    "    train_labels,\n",
    "    epochs=5,\n",
    "    batch_size=128,\n",
    "    verbose=1,\n",
    "    validation_data=(validation_data_vectorized, validation_labels),\n",
    ")\n",
    "\n",
    "# predict the labels on the test data\n",
    "rnn_predictions = model.predict(test_data_vectorized)\n",
    "# since predictions are one-hot encoded, we convert them to an int label taking the output with higher value\n",
    "rnn_predictions = np.argmax(rnn_predictions, axis=1)\n",
    "\n",
    "# calculate the accuracy score\n",
    "accuracy = accuracy_score(test_labels_list, rnn_predictions)\n",
    "print(\"Test Set Accuracy: \", accuracy)\n",
    "# create a confusion matrix\n",
    "cm = confusion_matrix(test_labels_list, rnn_predictions)\n",
    "# plot the confusion matrix\n",
    "plt.figure(figsize=(10, 7))\n",
    "sns.heatmap(cm, annot=True, fmt=\"d\", xticklabels=label_names, yticklabels=label_names)"
   ]
  },
  {
   "attachments": {},
   "cell_type": "markdown",
   "metadata": {},
   "source": [
    "# TODO 3: Creating Example Predictions\n",
    "Test the model. Create some fresh sample news (copy them from a news site like BBC) then see if the model can predict the correct labels. Use one example per class.\n",
    "\n",
    "Also, find one example that gets misclassified and briefly discuss here why it might happen:"
   ]
  },
  {
   "cell_type": "markdown",
   "metadata": {},
   "source": [
    "Here five different labels sample news from different news site  was passed trough a model, to check whether model can predict the right or not. Among five, four of sample news was correctly predict by the model. But the last news which was from bbc business news label, model predict it as it from Science and Technology label. There are various reason for misprediction of the model, which are listed below.\n",
    "1) **Similar Content**: The misprediction sample news label might share the similarity with the news from the another category or label, which makes the model to challenging to distingusih between them.\n",
    "2) **Unbalance Data** : While passing the training data there might be significantly more training data from the one label than another, then model is baised towards the majority label. Which may leads the model to predict the wrong label.\n",
    "3) **Ambiguous Language** : Some news categories or label like business, and science and technology sometime share the multidisciplinary topic, which also another factor for misprediction. \n"
   ]
  },
  {
   "cell_type": "code",
   "execution_count": 18,
   "metadata": {},
   "outputs": [
    {
     "name": "stdout",
     "output_type": "stream",
     "text": [
      "1/1 [==============================] - 0s 21ms/step\n",
      "NN classifier prediction:  World News\n",
      "NN classifier prediction:  Sports News\n",
      "NN classifier prediction:  Business News\n",
      "NN classifier prediction:  Sci/Tech News\n",
      "NN classifier prediction:  Sci/Tech News\n"
     ]
    }
   ],
   "source": [
    "sample_news = list()\n",
    "# TODO 3: create some fresh sample news (copy them from a news site like BBC) then see if the model can predict the correct labels\n",
    "# Use one example per class\n",
    "\n",
    "# World from cnn\n",
    "sample_news.append(\"At least 250 killed over the past 24 hours in central Gaza, Hamas-controlled health ministry says\")\n",
    "\n",
    "# Sport from cnn\n",
    "sample_news.append(\"The 38-year-old produced an offensive masterclass as he became the first player in their 21st NBA season to record a 40-point game, going 13-for-20 from the field, including making all five of his threes. He also added seven rebounds and seven assists.\")\n",
    "\n",
    "# Bussiness news from cnn\n",
    "sample_news.append(\"X stands accused of failing to pay out annual bonuses to staff after its October 2022 acquisition by billionaire Elon Musk – despite repeated assurances from executives in the lead-up to and following the deal that the company would do so, according to a lawsuit filed in June 2023 on behalf of employees.\")\n",
    "\n",
    "# Science and technology news from cnn\n",
    "sample_news.append(\"Over the past year, OpenAI has cemented its place as one of the most powerful tech startups in the world.\")\n",
    "\n",
    "# Also, find one example that gets misclassified and discuss why it might happen in the markdown above.\n",
    "\n",
    "# This news is from bbc business label but it show the result in sci/tech news\n",
    "sample_news.append(\"A review of veterinary services in the UK needs to ensure that pricing is made clearer, a consumer body has said.\")\n",
    "\n",
    "# preprocess the sample news\n",
    "sample_news = [preprocess_text(i) for i in sample_news]\n",
    "sample_news = remove_stopwords(sample_news)\n",
    "\n",
    "# If you added stemming/lemmatization, do it on sample_news as well\n",
    "\n",
    "#stemming the sample news with the help of stem_list function that we describe above\n",
    "sample_news = stem_list(sample_news)\n",
    "\n",
    "# vectorize the sample news\n",
    "sample_news_vectorized = vectorizer(sample_news)\n",
    "\n",
    "# predict using the neural network\n",
    "prediction = model.predict(sample_news_vectorized)\n",
    "prediction = np.argmax(prediction, axis=1)\n",
    "for i in prediction:\n",
    "     print(\"NN classifier prediction: \", label_names[prediction[i]], \"News\")\n"
   ]
  },
  {
   "attachments": {},
   "cell_type": "markdown",
   "metadata": {},
   "source": [
    "## TODO 4: Create a new model\n",
    "Try to improve the RNN model, of implement a CNN (with 1D convolution layers), that beats the baseline RNN"
   ]
  },
  {
   "cell_type": "markdown",
   "metadata": {},
   "source": [
    "As we see on the before, while predicting the sample news, model has predict the some news as misclassified. So to overcome this challenge and make the mode more productive, we try to imporve our model by implementing a CNN( with 1D concolution layers) which beats the baseline RNN and predict more precisely.\n",
    "Conv1D layers helps to capture the local patterns and features in the sequential data. It helps to identify important motifs or structure that might be relevant for classification. Another GlobalMaxPooling1D layer reduces the spatial dimension of the convolutional output and helps to focusing on the most important feature from the training data. \n",
    "In overall addition of Conv1D, GlobalMaxPooling1D helps to makes the model suitable for capturing sequential patterns and predict more accuracy."
   ]
  },
  {
   "cell_type": "code",
   "execution_count": 17,
   "metadata": {},
   "outputs": [
    {
     "name": "stdout",
     "output_type": "stream",
     "text": [
      "Model: \"sequential_1\"\n",
      "_________________________________________________________________\n",
      " Layer (type)                Output Shape              Param #   \n",
      "=================================================================\n",
      " embedding_1 (Embedding)     (None, None, 32)          80000     \n",
      "                                                                 \n",
      " bidirectional_1 (Bidirectio  (None, None, 64)         16640     \n",
      " nal)                                                            \n",
      "                                                                 \n",
      " conv1d (Conv1D)             (None, None, 64)          20544     \n",
      "                                                                 \n",
      " global_max_pooling1d (Globa  (None, 64)               0         \n",
      " lMaxPooling1D)                                                  \n",
      "                                                                 \n",
      " dense_1 (Dense)             (None, 64)                4160      \n",
      "                                                                 \n",
      " dense_2 (Dense)             (None, 4)                 260       \n",
      "                                                                 \n",
      "=================================================================\n",
      "Total params: 121,604\n",
      "Trainable params: 121,604\n",
      "Non-trainable params: 0\n",
      "_________________________________________________________________\n",
      "Epoch 1/5\n",
      "750/750 [==============================] - 17s 20ms/step - loss: 0.4711 - accuracy: 0.8270 - val_loss: 0.3778 - val_accuracy: 0.8692\n",
      "Epoch 2/5\n",
      "750/750 [==============================] - 14s 19ms/step - loss: 0.3376 - accuracy: 0.8822 - val_loss: 0.3563 - val_accuracy: 0.8751\n",
      "Epoch 3/5\n",
      "750/750 [==============================] - 14s 19ms/step - loss: 0.3141 - accuracy: 0.8887 - val_loss: 0.3472 - val_accuracy: 0.8757\n",
      "Epoch 4/5\n",
      "750/750 [==============================] - 15s 20ms/step - loss: 0.2962 - accuracy: 0.8947 - val_loss: 0.3523 - val_accuracy: 0.8763\n",
      "Epoch 5/5\n",
      "750/750 [==============================] - 15s 20ms/step - loss: 0.2817 - accuracy: 0.9002 - val_loss: 0.3471 - val_accuracy: 0.8779\n",
      "238/238 [==============================] - 2s 4ms/step\n",
      "Test Set Accuracy:  0.8769736842105263\n"
     ]
    },
    {
     "data": {
      "text/plain": [
       "<Axes: >"
      ]
     },
     "execution_count": 17,
     "metadata": {},
     "output_type": "execute_result"
    },
    {
     "data": {
      "image/png": "[encoded data removed]",
      "text/plain": [
       "<Figure size 1000x700 with 2 Axes>"
      ]
     },
     "metadata": {},
     "output_type": "display_data"
    }
   ],
   "source": [
    "# TODO 4: YOUR CODE HERE\n",
    "\n",
    "# Define the model\n",
    "model = Sequential()\n",
    "model.add(Embedding(vocab_size, 32))\n",
    "model.add(Bidirectional(LSTM(32, return_sequences=True)))\n",
    "model.add(Conv1D(64, 5, activation='relu'))\n",
    "model.add(GlobalMaxPooling1D())\n",
    "model.add(Dense(64, activation='relu'))\n",
    "model.add(Dense(4, activation='softmax'))\n",
    "\n",
    "# Print the model summary\n",
    "model.summary()\n",
    "\n",
    "# Compile the model\n",
    "model.compile(loss='categorical_crossentropy', optimizer='adam', metrics=['accuracy'])\n",
    "\n",
    "# Fit the model\n",
    "model.fit(\n",
    "    train_data_vectorized,\n",
    "    train_labels,\n",
    "    epochs=5,\n",
    "    batch_size=128,\n",
    "    verbose=1,\n",
    "    validation_data=(validation_data_vectorized, validation_labels)\n",
    ")\n",
    "\n",
    "# Predict the labels on the test data\n",
    "cnn_predictions = model.predict(test_data_vectorized)\n",
    "cnn_predictions = np.argmax(cnn_predictions, axis=1)\n",
    "\n",
    "# Calculate the accuracy score\n",
    "accuracy = accuracy_score(test_labels_list, cnn_predictions)\n",
    "print(\"Test Set Accuracy: \", accuracy)\n",
    "\n",
    "# Create a confusion matrix\n",
    "cm = confusion_matrix(test_labels_list, cnn_predictions)\n",
    "\n",
    "# Plot the confusion matrix\n",
    "plt.figure(figsize=(10, 7))\n",
    "sns.heatmap(cm, annot=True, fmt=\"d\", xticklabels=label_names, yticklabels=label_names)\n"
   ]
  },
  {
   "cell_type": "markdown",
   "metadata": {},
   "source": [
    "## TODO 5: Discussion how step from 1 to 4 helps to improve the performance.\n"
   ]
  },
  {
   "cell_type": "markdown",
   "metadata": {},
   "source": [
    "Those steps that we take form 1 to 4, obviously improve the performace. Just a quick reminder in step 1 all the unwanted words (News agency name, and location from where the news was taken) and website link (all the resuidal html code, and link that has having .com in last) was removed. In step 2, stemming features was passed through the data for simplyfying the grammatical word variations. In step 3, some news sample was passed through different news agency with different label, and some of the news was wrongly predicted by the model. Then in step 4, to make the model more precise CNN (with 1D convolution layers) was added to the model layer which helps to capture the local patterns and features in the sequential data. \n",
    "Through these each step the prediction of model, also become more accurate. At first if those residual words was not removed from the dataframe then they will create a baised on the model. As model get trained from the data and if it received the same data or same html link for different news label then it will predict wrongly. Also through the second step, if the words are gramatically correct, then it will be more flexible for model to understand the training data. In step three, it just a prediction where model is working good or bad through sample news. But in Step four model was subjected with more layer for natural language processing which helps to understand the training data by going on depth.\n",
    "In overall these four step helps the model to improve the performace."
   ]
  },
  {
   "attachments": {},
   "cell_type": "markdown",
   "metadata": {},
   "source": [
    "--- \n",
    "Sources:\n",
    "- What is Natural Language Processing (NLP) : https://www.ibm.com/topics/natural-language-processing\n",
    "- An Introduction to Stemming in Natural Language Processing : https://www.analyticsvidhya.com/blog/2021/11/an-introduction-to-stemming-in-natural-language-processing/\n",
    "- Natural Language Processing : https://keras.io/examples/nlp/\n",
    "- NLP - Data Preprocessing and Cleaning: https://www.kaggle.com/code/colearninglounge/nlp-data-preprocessing-and-cleaning"
   ]
  }
 ],
 "metadata": {
  "kernelspec": {
   "display_name": "Python 3.10.4 ('AIML')",
   "language": "python",
   "name": "python3"
  },
  "language_info": {
   "codemirror_mode": {
    "name": "ipython",
    "version": 3
   },
   "file_extension": ".py",
   "mimetype": "text/x-python",
   "name": "python",
   "nbconvert_exporter": "python",
   "pygments_lexer": "ipython3",
   "version": "3.9.18"
  },
  "orig_nbformat": 4,
  "vscode": {
   "interpreter": {
    "hash": "977335c72b126e3991b9de8b6fc74c7a8bf9097191ab51ecd2769bb8eacdf950"
   }
  }
 },
 "nbformat": 4,
 "nbformat_minor": 2
}
